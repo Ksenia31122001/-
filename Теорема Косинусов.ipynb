{
 "cells": [
  {
   "cell_type": "code",
   "execution_count": 26,
   "id": "55f44ece-d59e-4b8d-8d8a-23722d82622d",
   "metadata": {
    "tags": []
   },
   "outputs": [
    {
     "name": "stdin",
     "output_type": "stream",
     "text": [
      "Введите длину стороны с = 3\n",
      "Введите длину стороны b = 4\n",
      "Введите угол между сторонами b и с 90\n"
     ]
    },
    {
     "name": "stdout",
     "output_type": "stream",
     "text": [
      "Длина стороны a = 5.0\n"
     ]
    }
   ],
   "source": [
    "import math\n",
    "c=int(input('Введите длину стороны с ='))\n",
    "b=int(input('Введите длину стороны b ='))\n",
    "alfa=int(input('Введите угол между сторонами b и с'))\n",
    "a = (c**2 + b**2 - 2*b*c*math.cos(math.radians(alfa)))**(1/2)\n",
    "print ('Длина стороны a =', a)\n",
    "         "
   ]
  },
  {
   "cell_type": "code",
   "execution_count": null,
   "id": "adf493ea-b7cf-41e6-a371-5e6ffd30ebf3",
   "metadata": {},
   "outputs": [],
   "source": []
  }
 ],
 "metadata": {
  "kernelspec": {
   "display_name": "Python 3 (ipykernel)",
   "language": "python",
   "name": "python3"
  },
  "language_info": {
   "codemirror_mode": {
    "name": "ipython",
    "version": 3
   },
   "file_extension": ".py",
   "mimetype": "text/x-python",
   "name": "python",
   "nbconvert_exporter": "python",
   "pygments_lexer": "ipython3",
   "version": "3.11.5"
  }
 },
 "nbformat": 4,
 "nbformat_minor": 5
}
