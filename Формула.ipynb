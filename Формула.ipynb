{
 "cells": [
  {
   "cell_type": "code",
   "execution_count": 7,
   "id": "593017fe-3d40-45d4-bb8b-ab1d623a4d51",
   "metadata": {
    "tags": []
   },
   "outputs": [
    {
     "name": "stdout",
     "output_type": "stream",
     "text": [
      "Введите два числа, чтобы найти их среднее арифметическое значение\n"
     ]
    },
    {
     "name": "stdin",
     "output_type": "stream",
     "text": [
      "Первое число =  10\n",
      "Второе число =  23\n"
     ]
    },
    {
     "name": "stdout",
     "output_type": "stream",
     "text": [
      "Среднее арефметическое значение равняется  16.5\n"
     ]
    }
   ],
   "source": [
    "print('Введите два числа, чтобы найти их среднее арифметическое значение')\n",
    "a=float(input('Первое число = '))\n",
    "b=float(input('Второе число = '))\n",
    "c=(a+b)/2\n",
    "print('Среднее арефметическое значение равняется ', c)"
   ]
  },
  {
   "cell_type": "code",
   "execution_count": null,
   "id": "f20d0400-3d6e-4aa3-89bb-b8d11971b6bc",
   "metadata": {},
   "outputs": [],
   "source": []
  }
 ],
 "metadata": {
  "kernelspec": {
   "display_name": "Python 3 (ipykernel)",
   "language": "python",
   "name": "python3"
  },
  "language_info": {
   "codemirror_mode": {
    "name": "ipython",
    "version": 3
   },
   "file_extension": ".py",
   "mimetype": "text/x-python",
   "name": "python",
   "nbconvert_exporter": "python",
   "pygments_lexer": "ipython3",
   "version": "3.11.5"
  }
 },
 "nbformat": 4,
 "nbformat_minor": 5
}
