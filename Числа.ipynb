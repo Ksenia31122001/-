{
 "cells": [
  {
   "cell_type": "code",
   "execution_count": 79,
   "id": "d3b2547c-1f0d-48a6-acba-66c39963fbca",
   "metadata": {
    "tags": []
   },
   "outputs": [
    {
     "name": "stdin",
     "output_type": "stream",
     "text": [
      "Введите число от 0 до 99 1686324578065\n"
     ]
    },
    {
     "name": "stdout",
     "output_type": "stream",
     "text": [
      "Введено число, которое не лежит в пределе от 0 до 99\n"
     ]
    }
   ],
   "source": [
    "c=0\n",
    "try:\n",
    "    num=int(input('Введите число от 0 до 99')) \n",
    "    def num_to_words(num):\n",
    "        units = ['ноль', 'один', 'два', 'три', 'четыре', 'пять', 'шесть', 'семь', 'восемь', 'девять']\n",
    "        teens = ['десять', 'одиннадцать', 'двенадцать', 'тринадцать', 'четырнадцать', 'пятнадцать', 'шестнадцать', 'семнадцать', 'восемнадцать', 'девятнадцать']\n",
    "        tens = ['двадцать', 'тридцать', 'сорок', 'пятьдесят', 'шестьдесят', 'семьдесят', 'восемьдесят', 'девяносто']\n",
    "        if 0 <= num <= 9:\n",
    "            return units[num]\n",
    "        elif 10 <= num <= 19:\n",
    "            return teens[num - 10]\n",
    "        elif 20 <= num <= 99:\n",
    "            if num % 10 == 0:\n",
    "                return tens[num // 10 - 2]\n",
    "            else:\n",
    "                return f'{tens[num // 10 - 2]}-{units[num % 10]}'\n",
    "        else:\n",
    "            return 'Введено число, которое не лежит в пределе от 0 до 99'     \n",
    "except ValueError as ve:\n",
    "        c=1\n",
    "        print('Вы должны ввести число') \n",
    "if c==1:\n",
    "    print('')\n",
    "else:\n",
    "    word = num_to_words(num)\n",
    "    print(word)\n"
   ]
  },
  {
   "cell_type": "code",
   "execution_count": null,
   "id": "598b7d25-6476-4c7e-aec2-9d68059b3c00",
   "metadata": {},
   "outputs": [],
   "source": []
  }
 ],
 "metadata": {
  "kernelspec": {
   "display_name": "Python 3 (ipykernel)",
   "language": "python",
   "name": "python3"
  },
  "language_info": {
   "codemirror_mode": {
    "name": "ipython",
    "version": 3
   },
   "file_extension": ".py",
   "mimetype": "text/x-python",
   "name": "python",
   "nbconvert_exporter": "python",
   "pygments_lexer": "ipython3",
   "version": "3.11.5"
  }
 },
 "nbformat": 4,
 "nbformat_minor": 5
}
