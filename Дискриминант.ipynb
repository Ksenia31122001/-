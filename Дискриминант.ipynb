{
 "cells": [
  {
   "cell_type": "code",
   "execution_count": 5,
   "id": "53b09893-91d0-478b-9271-a759609a8546",
   "metadata": {
    "tags": []
   },
   "outputs": [
    {
     "name": "stdout",
     "output_type": "stream",
     "text": [
      "Введите коэффициенты для уравнения\n",
      "ax^2 + bx + c = 0:\n"
     ]
    },
    {
     "name": "stdin",
     "output_type": "stream",
     "text": [
      "a =  1\n",
      "b =  2\n",
      "c =  2\n"
     ]
    },
    {
     "name": "stdout",
     "output_type": "stream",
     "text": [
      "Дискриминант D = -4.00\n",
      "Корней нет\n"
     ]
    }
   ],
   "source": [
    "import math\n",
    "print(\"Введите коэффициенты для уравнения\")\n",
    "print(\"ax^2 + bx + c = 0:\")\n",
    "a = float(input(\"a = \"))\n",
    "b = float(input(\"b = \"))\n",
    "c = float(input(\"c = \"))\n",
    " \n",
    "discr = b ** 2 - 4 * a * c\n",
    "print(\"Дискриминант D = %.2f\" % discr)\n",
    " \n",
    "if discr > 0:\n",
    "    x1 = (-b + math.sqrt(discr)) / (2 * a)\n",
    "    x2 = (-b - math.sqrt(discr)) / (2 * a)\n",
    "    print(\"x1 = %.2f \\nx2 = %.2f\" % (x1, x2))\n",
    "elif discr == 0:\n",
    "    x = -b / (2 * a)\n",
    "    print(\"x = %.2f\" % x)\n",
    "else:\n",
    "    print(\"Корней нет\")"
   ]
  },
  {
   "cell_type": "code",
   "execution_count": null,
   "id": "9f8ac8f0-ac4a-4686-934f-ab7aea495f3e",
   "metadata": {},
   "outputs": [],
   "source": []
  }
 ],
 "metadata": {
  "kernelspec": {
   "display_name": "Python 3 (ipykernel)",
   "language": "python",
   "name": "python3"
  },
  "language_info": {
   "codemirror_mode": {
    "name": "ipython",
    "version": 3
   },
   "file_extension": ".py",
   "mimetype": "text/x-python",
   "name": "python",
   "nbconvert_exporter": "python",
   "pygments_lexer": "ipython3",
   "version": "3.11.5"
  }
 },
 "nbformat": 4,
 "nbformat_minor": 5
}
